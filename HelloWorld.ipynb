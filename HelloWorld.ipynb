{
 "cells": [
  {
   "cell_type": "code",
   "execution_count": 2,
   "id": "9bde53e4",
   "metadata": {},
   "outputs": [],
   "source": [
    "import pandas as pd\n",
    "# df=pd.read_csv('vgsales.csv')\n",
    "# df.shape \n",
    "# #el shape ta3tik 9adeh men rows w 9adeh men colonne fel dataset mte3ek\n"
   ]
  },
  {
   "cell_type": "code",
   "execution_count": 3,
   "id": "a4586144",
   "metadata": {},
   "outputs": [],
   "source": [
    "# df.describe()\n",
    "# #ta3tik des information ale el dataset  mte3ek"
   ]
  },
  {
   "cell_type": "code",
   "execution_count": 4,
   "id": "907a9042",
   "metadata": {},
   "outputs": [],
   "source": [
    "# df.values"
   ]
  },
  {
   "cell_type": "code",
   "execution_count": 5,
   "id": "8691d648",
   "metadata": {},
   "outputs": [],
   "source": [
    "from sklearn.tree import DecisionTreeClassifier\n",
    "from sklearn.model_selection import train_test_split\n",
    "from sklearn.metrics import accuracy_score\n",
    "\n",
    "# music_data=pd.read_csv('music.csv')\n",
    "# X=music_data.drop(columns=['genre'])\n",
    "# Y=music_data['genre']\n",
    "# X_train,X_test,Y_train,Y_test=train_test_split(X,Y,test_size=0.2)\n",
    "\n",
    "# model=DecisionTreeClassifier()\n",
    "# model.fit(X_train,Y_train)\n",
    "# predictions=model.predict(X_test)\n",
    "\n",
    "# score=accuracy_score(Y_test,predictions)\n",
    "# score\n"
   ]
  },
  {
   "cell_type": "code",
   "execution_count": 9,
   "id": "3525af5a",
   "metadata": {},
   "outputs": [
    {
     "name": "stderr",
     "output_type": "stream",
     "text": [
      "c:\\users\\adham\\appdata\\local\\programs\\python\\python39\\lib\\site-packages\\sklearn\\base.py:450: UserWarning: X does not have valid feature names, but DecisionTreeClassifier was fitted with feature names\n",
      "  warnings.warn(\n"
     ]
    },
    {
     "data": {
      "text/plain": [
       "array(['HipHop'], dtype=object)"
      ]
     },
     "execution_count": 9,
     "metadata": {},
     "output_type": "execute_result"
    }
   ],
   "source": [
    "# from sklearn.externals import joblib\n",
    "import joblib as jb\n",
    "\n",
    "# music_data=pd.read_csv('music.csv')\n",
    "# X=music_data.drop(columns=['genre'])\n",
    "# Y=music_data['genre']\n",
    "# model=DecisionTreeClassifier()\n",
    "# model.fit(X,Y)\n",
    "\n",
    "# jb.dump(model,'music-recommender.joblib')\n",
    "\n",
    "# el partie mte3 el commentaire li 9bel hethy hiye nasna3 model w na3mellou train ba3teli na3mel bih predictions\n",
    "# mech kol marra n3ewed na3mel training lel  model mte3ne\n",
    "model=jb.load('music-recommender.joblib')\n",
    "predictions=model.predict([[21,1]])\n",
    "predictions\n",
    "\n",
    "\n"
   ]
  },
  {
   "cell_type": "markdown",
   "id": "df6fe9de",
   "metadata": {},
   "source": [
    "<h1>descision tree<h1>\n",
    "    "
   ]
  },
  {
   "cell_type": "code",
   "execution_count": 12,
   "id": "d8727622",
   "metadata": {},
   "outputs": [],
   "source": [
    "from sklearn import tree\n",
    "music_data=pd.read_csv('music.csv')\n",
    "X=music_data.drop(columns=['genre'])\n",
    "Y=music_data['genre']\n",
    "model=DecisionTreeClassifier()\n",
    "model.fit(X,Y)\n",
    "tree.export_graphviz(model,out_file='music-recommender.dot',\n",
    "                    feature_names=['age','gender'],\n",
    "                    class_names=sorted(Y.unique()),\n",
    "                    label='all',\n",
    "                    rounded=True,\n",
    "                    filled=True)"
   ]
  },
  {
   "cell_type": "code",
   "execution_count": null,
   "id": "93bc3b0f",
   "metadata": {},
   "outputs": [],
   "source": []
  }
 ],
 "metadata": {
  "kernelspec": {
   "display_name": "Python 3 (ipykernel)",
   "language": "python",
   "name": "python3"
  },
  "language_info": {
   "codemirror_mode": {
    "name": "ipython",
    "version": 3
   },
   "file_extension": ".py",
   "mimetype": "text/x-python",
   "name": "python",
   "nbconvert_exporter": "python",
   "pygments_lexer": "ipython3",
   "version": "3.9.6"
  }
 },
 "nbformat": 4,
 "nbformat_minor": 5
}
